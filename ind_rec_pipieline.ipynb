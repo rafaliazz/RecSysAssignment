{
 "cells": [
  {
   "cell_type": "markdown",
   "source": [
    "## The individual recomendations procedure:\n",
    "    - Ask user to rate 10 movies\n",
    "    - Get predictions for a user using ALS lenskit algorithm    \n",
    "    - make a list of some movies with highest predicted scores\n",
    "    - rerank based on cosine similarity"
   ],
   "metadata": {
    "collapsed": false
   },
   "id": "cd518b4ee350c89a"
  },
  {
   "cell_type": "code",
   "execution_count": 1,
   "outputs": [],
   "source": [
    "import pandas as pd\n",
    "import numpy as np\n"
   ],
   "metadata": {
    "collapsed": false,
    "ExecuteTime": {
     "end_time": "2023-10-16T03:36:20.540751100Z",
     "start_time": "2023-10-16T03:36:20.468984100Z"
    }
   },
   "id": "1b882d0914e076a1"
  },
  {
   "cell_type": "code",
   "execution_count": 2,
   "outputs": [],
   "source": [
    "#preoare item vectors for each movie\n",
    "import numpy as np\n",
    "from numpy import dot\n",
    "from numpy.linalg import norm\n",
    "\n",
    "#tag_genome_matrix = genome_df.pivot(index='movieId', columns='tagId', values='relevance')\n",
    "tag_rel_matrix_df = pd.read_csv('Preprocessed_Data/post_processed_movie_tag.csv')\n",
    "tag_rel_matrix_df=  tag_rel_matrix_df.rename(columns={'item_id':'item'})"
   ],
   "metadata": {
    "collapsed": false,
    "ExecuteTime": {
     "end_time": "2023-10-16T03:36:22.103580500Z",
     "start_time": "2023-10-16T03:36:20.486211600Z"
    }
   },
   "id": "1b3edf64e13526dc"
  },
  {
   "cell_type": "code",
   "execution_count": 3,
   "outputs": [
    {
     "data": {
      "text/plain": "   item                      title_original  \\\n0     1                    Toy Story (1995)   \n1     2                      Jumanji (1995)   \n2     3             Grumpier Old Men (1995)   \n3     4            Waiting to Exhale (1995)   \n4     5  Father of the Bride Part II (1995)   \n5     6                         Heat (1995)   \n6     7                      Sabrina (1995)   \n7     8                 Tom and Huck (1995)   \n8     9                 Sudden Death (1995)   \n9    10                    GoldenEye (1995)   \n\n                                        genres  \n0  Adventure|Animation|Children|Comedy|Fantasy  \n1                   Adventure|Children|Fantasy  \n2                               Comedy|Romance  \n3                         Comedy|Drama|Romance  \n4                                       Comedy  \n5                        Action|Crime|Thriller  \n6                               Comedy|Romance  \n7                           Adventure|Children  \n8                                       Action  \n9                    Action|Adventure|Thriller  ",
      "text/html": "<div>\n<style scoped>\n    .dataframe tbody tr th:only-of-type {\n        vertical-align: middle;\n    }\n\n    .dataframe tbody tr th {\n        vertical-align: top;\n    }\n\n    .dataframe thead th {\n        text-align: right;\n    }\n</style>\n<table border=\"1\" class=\"dataframe\">\n  <thead>\n    <tr style=\"text-align: right;\">\n      <th></th>\n      <th>item</th>\n      <th>title_original</th>\n      <th>genres</th>\n    </tr>\n  </thead>\n  <tbody>\n    <tr>\n      <th>0</th>\n      <td>1</td>\n      <td>Toy Story (1995)</td>\n      <td>Adventure|Animation|Children|Comedy|Fantasy</td>\n    </tr>\n    <tr>\n      <th>1</th>\n      <td>2</td>\n      <td>Jumanji (1995)</td>\n      <td>Adventure|Children|Fantasy</td>\n    </tr>\n    <tr>\n      <th>2</th>\n      <td>3</td>\n      <td>Grumpier Old Men (1995)</td>\n      <td>Comedy|Romance</td>\n    </tr>\n    <tr>\n      <th>3</th>\n      <td>4</td>\n      <td>Waiting to Exhale (1995)</td>\n      <td>Comedy|Drama|Romance</td>\n    </tr>\n    <tr>\n      <th>4</th>\n      <td>5</td>\n      <td>Father of the Bride Part II (1995)</td>\n      <td>Comedy</td>\n    </tr>\n    <tr>\n      <th>5</th>\n      <td>6</td>\n      <td>Heat (1995)</td>\n      <td>Action|Crime|Thriller</td>\n    </tr>\n    <tr>\n      <th>6</th>\n      <td>7</td>\n      <td>Sabrina (1995)</td>\n      <td>Comedy|Romance</td>\n    </tr>\n    <tr>\n      <th>7</th>\n      <td>8</td>\n      <td>Tom and Huck (1995)</td>\n      <td>Adventure|Children</td>\n    </tr>\n    <tr>\n      <th>8</th>\n      <td>9</td>\n      <td>Sudden Death (1995)</td>\n      <td>Action</td>\n    </tr>\n    <tr>\n      <th>9</th>\n      <td>10</td>\n      <td>GoldenEye (1995)</td>\n      <td>Action|Adventure|Thriller</td>\n    </tr>\n  </tbody>\n</table>\n</div>"
     },
     "execution_count": 3,
     "metadata": {},
     "output_type": "execute_result"
    }
   ],
   "source": [
    "movies_df = pd.read_csv('DataSets_/movie.csv')\n",
    "movies_df = movies_df.rename(columns={'movieId': 'item', 'title' : 'title_original'})\n",
    "movies_df.head(10)"
   ],
   "metadata": {
    "collapsed": false,
    "ExecuteTime": {
     "end_time": "2023-10-16T03:36:22.198595600Z",
     "start_time": "2023-10-16T03:36:22.105582500Z"
    }
   },
   "id": "c7de7684f3e024bb"
  },
  {
   "cell_type": "code",
   "execution_count": 4,
   "outputs": [
    {
     "data": {
      "text/plain": "           user    item  rating            timestamp\n12675921  87586    7151     3.5  2015-03-31 06:40:02\n12898527  89081   52458     4.0  2015-03-31 06:11:28\n12898546  89081   55232     3.5  2015-03-31 06:11:26\n2508834   16978    2093     3.5  2015-03-31 06:03:17\n7819902   53930  118706     3.5  2015-03-31 06:00:51\n2509323   16978  106642     3.0  2015-03-31 06:00:28\n10151906  70232   58998     2.5  2015-03-31 05:55:28\n8378411   57814    1590     3.5  2015-03-31 05:51:49\n8378415   57814    2311     4.5  2015-03-31 05:51:23\n8378501   57814   94864     3.5  2015-03-31 05:50:52",
      "text/html": "<div>\n<style scoped>\n    .dataframe tbody tr th:only-of-type {\n        vertical-align: middle;\n    }\n\n    .dataframe tbody tr th {\n        vertical-align: top;\n    }\n\n    .dataframe thead th {\n        text-align: right;\n    }\n</style>\n<table border=\"1\" class=\"dataframe\">\n  <thead>\n    <tr style=\"text-align: right;\">\n      <th></th>\n      <th>user</th>\n      <th>item</th>\n      <th>rating</th>\n      <th>timestamp</th>\n    </tr>\n  </thead>\n  <tbody>\n    <tr>\n      <th>12675921</th>\n      <td>87586</td>\n      <td>7151</td>\n      <td>3.5</td>\n      <td>2015-03-31 06:40:02</td>\n    </tr>\n    <tr>\n      <th>12898527</th>\n      <td>89081</td>\n      <td>52458</td>\n      <td>4.0</td>\n      <td>2015-03-31 06:11:28</td>\n    </tr>\n    <tr>\n      <th>12898546</th>\n      <td>89081</td>\n      <td>55232</td>\n      <td>3.5</td>\n      <td>2015-03-31 06:11:26</td>\n    </tr>\n    <tr>\n      <th>2508834</th>\n      <td>16978</td>\n      <td>2093</td>\n      <td>3.5</td>\n      <td>2015-03-31 06:03:17</td>\n    </tr>\n    <tr>\n      <th>7819902</th>\n      <td>53930</td>\n      <td>118706</td>\n      <td>3.5</td>\n      <td>2015-03-31 06:00:51</td>\n    </tr>\n    <tr>\n      <th>2509323</th>\n      <td>16978</td>\n      <td>106642</td>\n      <td>3.0</td>\n      <td>2015-03-31 06:00:28</td>\n    </tr>\n    <tr>\n      <th>10151906</th>\n      <td>70232</td>\n      <td>58998</td>\n      <td>2.5</td>\n      <td>2015-03-31 05:55:28</td>\n    </tr>\n    <tr>\n      <th>8378411</th>\n      <td>57814</td>\n      <td>1590</td>\n      <td>3.5</td>\n      <td>2015-03-31 05:51:49</td>\n    </tr>\n    <tr>\n      <th>8378415</th>\n      <td>57814</td>\n      <td>2311</td>\n      <td>4.5</td>\n      <td>2015-03-31 05:51:23</td>\n    </tr>\n    <tr>\n      <th>8378501</th>\n      <td>57814</td>\n      <td>94864</td>\n      <td>3.5</td>\n      <td>2015-03-31 05:50:52</td>\n    </tr>\n  </tbody>\n</table>\n</div>"
     },
     "execution_count": 4,
     "metadata": {},
     "output_type": "execute_result"
    }
   ],
   "source": [
    "ratings_df = pd.read_csv('Preprocessed_Data/Latest_100000_ratings.csv', index_col = 0)\n",
    "ratings_df = ratings_df.rename(columns={'movieId': 'item', 'userId' : 'user'})\n",
    "ratings_df.head(10)"
   ],
   "metadata": {
    "collapsed": false,
    "ExecuteTime": {
     "end_time": "2023-10-16T03:36:22.363614800Z",
     "start_time": "2023-10-16T03:36:22.199587200Z"
    }
   },
   "id": "45d0a151b80a3910"
  },
  {
   "cell_type": "code",
   "execution_count": 5,
   "outputs": [],
   "source": [
    "# keep only items that are in the ratings_df and in the tag_rel_matrix_df\n",
    "\n",
    "df1= tag_rel_matrix_df\n",
    "df2= ratings_df\n",
    "# Identify the common item_ids\n",
    "common_item_ids = df1[df1['item'].isin(df2['item'])]['item'].unique()\n",
    "\n",
    "# Filter both dataframes to only include these common item_ids\n",
    "df1 = df1[df1['item'].isin(common_item_ids)]\n",
    "df2 = df2[df2['item'].isin(common_item_ids)]\n",
    "\n",
    "assert len(df1[df1['item'].isin(df2['item'])]['item'].unique()) == len(df2[df2['item'].isin(df1['item'])]['item'].unique())\n"
   ],
   "metadata": {
    "collapsed": false,
    "ExecuteTime": {
     "end_time": "2023-10-16T03:36:22.488153700Z",
     "start_time": "2023-10-16T03:36:22.356580900Z"
    }
   },
   "id": "6468a24a252e83a2"
  },
  {
   "cell_type": "code",
   "execution_count": 6,
   "outputs": [],
   "source": [
    "# given user_id make user_tag_profile_vector\n",
    "def make_user_tag_profile(user_id):\n",
    "    # tag_rel_matrix_df = tag_rel_matrix_df[1:]\n",
    "    user_tag_profile_vector = np.zeros(len(tag_rel_matrix_df.columns[1:]))\n",
    "    user_ratings_df = ratings_df[ratings_df['user']==user_id]\n",
    "    summ = 0\n",
    "    for index in user_ratings_df.index:\n",
    "      user_rating =  user_ratings_df.loc[index]\n",
    "      vector = np.array(tag_rel_matrix_df[tag_rel_matrix_df['item'] == user_rating['item']])\n",
    "      vector = vector[0, 1:]\n",
    "      rating = user_rating['rating']\n",
    "      user_tag_profile_vector += vector * rating\n",
    "      summ += user_rating['rating']\n",
    "    user_tag_profile_vector /= summ\n",
    "    return user_tag_profile_vector\n"
   ],
   "metadata": {
    "collapsed": false,
    "ExecuteTime": {
     "end_time": "2023-10-16T03:36:22.539147200Z",
     "start_time": "2023-10-16T03:36:22.480150400Z"
    }
   },
   "id": "48c4ade58b216a39"
  },
  {
   "cell_type": "code",
   "execution_count": 10,
   "outputs": [
    {
     "ename": "AttributeError",
     "evalue": "module 'scipy' has no attribute '__version__'",
     "output_type": "error",
     "traceback": [
      "\u001B[1;31m---------------------------------------------------------------------------\u001B[0m",
      "\u001B[1;31mAttributeError\u001B[0m                            Traceback (most recent call last)",
      "Input \u001B[1;32mIn [10]\u001B[0m, in \u001B[0;36m<cell line: 1>\u001B[1;34m()\u001B[0m\n\u001B[1;32m----> 1\u001B[0m \u001B[38;5;28;01mfrom\u001B[39;00m \u001B[38;5;21;01mlenskit\u001B[39;00m\u001B[38;5;21;01m.\u001B[39;00m\u001B[38;5;21;01malgorithms\u001B[39;00m \u001B[38;5;28;01mimport\u001B[39;00m Recommender, als, item_knn, user_knn\n\u001B[0;32m      4\u001B[0m \u001B[38;5;66;03m# We use the collaborative filtering algorithm ALS.BiasedMF, that use cosine similarity\u001B[39;00m\n\u001B[0;32m      5\u001B[0m num_recs \u001B[38;5;241m=\u001B[39m \u001B[38;5;241m10\u001B[39m  \u001B[38;5;66;03m# Number of recommendations to generate\u001B[39;00m\n",
      "File \u001B[1;32m~\\anaconda3\\lib\\site-packages\\lenskit\\algorithms\\als.py:6\u001B[0m, in \u001B[0;36m<module>\u001B[1;34m\u001B[0m\n\u001B[0;32m      3\u001B[0m \u001B[38;5;28;01mimport\u001B[39;00m \u001B[38;5;21;01mwarnings\u001B[39;00m\n\u001B[0;32m      5\u001B[0m \u001B[38;5;28;01mimport\u001B[39;00m \u001B[38;5;21;01mnumpy\u001B[39;00m \u001B[38;5;28;01mas\u001B[39;00m \u001B[38;5;21;01mnp\u001B[39;00m\n\u001B[1;32m----> 6\u001B[0m \u001B[38;5;28;01mfrom\u001B[39;00m \u001B[38;5;21;01mnumba\u001B[39;00m \u001B[38;5;28;01mimport\u001B[39;00m njit, prange\n\u001B[0;32m      8\u001B[0m \u001B[38;5;28;01mfrom\u001B[39;00m \u001B[38;5;21;01mcsr\u001B[39;00m \u001B[38;5;28;01mimport\u001B[39;00m CSR\n\u001B[0;32m     10\u001B[0m \u001B[38;5;28;01mfrom\u001B[39;00m \u001B[38;5;21;01m.\u001B[39;00m\u001B[38;5;21;01mbias\u001B[39;00m \u001B[38;5;28;01mimport\u001B[39;00m Bias\n",
      "File \u001B[1;32m~\\anaconda3\\lib\\site-packages\\numba\\__init__.py:200\u001B[0m, in \u001B[0;36m<module>\u001B[1;34m\u001B[0m\n\u001B[0;32m    197\u001B[0m     \u001B[38;5;28;01mreturn\u001B[39;00m \u001B[38;5;28;01mFalse\u001B[39;00m\n\u001B[0;32m    199\u001B[0m _ensure_llvm()\n\u001B[1;32m--> 200\u001B[0m \u001B[43m_ensure_critical_deps\u001B[49m\u001B[43m(\u001B[49m\u001B[43m)\u001B[49m\n\u001B[0;32m    202\u001B[0m \u001B[38;5;66;03m# we know llvmlite is working as the above tests passed, import it now as SVML\u001B[39;00m\n\u001B[0;32m    203\u001B[0m \u001B[38;5;66;03m# needs to mutate runtime options (sets the `-vector-library`).\u001B[39;00m\n\u001B[0;32m    204\u001B[0m \u001B[38;5;28;01mimport\u001B[39;00m \u001B[38;5;21;01mllvmlite\u001B[39;00m\n",
      "File \u001B[1;32m~\\anaconda3\\lib\\site-packages\\numba\\__init__.py:147\u001B[0m, in \u001B[0;36m_ensure_critical_deps\u001B[1;34m()\u001B[0m\n\u001B[0;32m    145\u001B[0m     \u001B[38;5;28;01mpass\u001B[39;00m\n\u001B[0;32m    146\u001B[0m \u001B[38;5;28;01melse\u001B[39;00m:\n\u001B[1;32m--> 147\u001B[0m     sp_version \u001B[38;5;241m=\u001B[39m \u001B[38;5;28mtuple\u001B[39m(\u001B[38;5;28mmap\u001B[39m(\u001B[38;5;28mint\u001B[39m, \u001B[43mscipy\u001B[49m\u001B[38;5;241;43m.\u001B[39;49m\u001B[43m__version__\u001B[49m\u001B[38;5;241m.\u001B[39msplit(\u001B[38;5;124m'\u001B[39m\u001B[38;5;124m.\u001B[39m\u001B[38;5;124m'\u001B[39m)[:\u001B[38;5;241m2\u001B[39m]))\n\u001B[0;32m    148\u001B[0m     \u001B[38;5;28;01mif\u001B[39;00m sp_version \u001B[38;5;241m<\u001B[39m (\u001B[38;5;241m1\u001B[39m, \u001B[38;5;241m0\u001B[39m):\n\u001B[0;32m    149\u001B[0m         \u001B[38;5;28;01mraise\u001B[39;00m \u001B[38;5;167;01mImportError\u001B[39;00m(\u001B[38;5;124m\"\u001B[39m\u001B[38;5;124mNumba requires SciPy version 1.0 or greater\u001B[39m\u001B[38;5;124m\"\u001B[39m)\n",
      "\u001B[1;31mAttributeError\u001B[0m: module 'scipy' has no attribute '__version__'"
     ]
    }
   ],
   "source": [
    "from lenskit.algorithms import Recommender, als, item_knn, user_knn\n",
    "\n",
    "\n",
    "# We use the collaborative filtering algorithm ALS.BiasedMF, that use cosine similarity\n",
    "num_recs = 10  # Number of recommendations to generate\n",
    "als = als.BiasedMF(50)\n",
    "recsys = Recommender.adapt(als)\n",
    "recsys.fit(ratings_df)"
   ],
   "metadata": {
    "collapsed": false,
    "ExecuteTime": {
     "end_time": "2023-10-16T03:41:05.276487600Z",
     "start_time": "2023-10-16T03:41:05.137457300Z"
    }
   },
   "id": "531695912059fe66"
  },
  {
   "cell_type": "code",
   "execution_count": null,
   "outputs": [],
   "source": [
    "def return_movie_title_from_id(item_id):\n",
    "  return movies_df[movies_df['item']==item_id]['title_original'].iloc[0]"
   ],
   "metadata": {
    "collapsed": false,
    "ExecuteTime": {
     "end_time": "2023-10-16T03:36:23.429235800Z",
     "start_time": "2023-10-16T03:36:23.428236Z"
    }
   },
   "id": "ebec2406ed0259b6"
  },
  {
   "cell_type": "code",
   "execution_count": null,
   "outputs": [],
   "source": [
    "def cos_sim_recommended_movies(user_tag_profile, recommended_movies_df, matrix_df):\n",
    "    for index, row in recommended_movies_df.iterrows():\n",
    "        # Extract item_tag_vector\n",
    "        item_tag_vector = matrix_df[matrix_df['item'] == row['item']].drop(columns=['item']).values\n",
    "\n",
    "        # If item_tag_vector is not empty\n",
    "        if item_tag_vector.size > 0:\n",
    "            # Ensure item_tag_vector is 1-D for dot product\n",
    "            item_tag_vector = item_tag_vector[0]\n",
    "\n",
    "            # Compute cosine similarity\n",
    "            cos_sim = dot(user_tag_profile, item_tag_vector) / (norm(user_tag_profile) * norm(item_tag_vector))\n",
    "            new_score = row['score'] * (cos_sim + 0.5)\n",
    "            recommended_movies_df.loc[index, 'new_score'] = new_score\n",
    "        else:\n",
    "            # Handle the case where item_tag_vector is empty (can adjust as needed)\n",
    "            recommended_movies_df.loc[index, 'new_score'] = 0\n",
    "\n",
    "    return recommended_movies_df.sort_values(by=['new_score'], ascending=False)"
   ],
   "metadata": {
    "collapsed": false,
    "ExecuteTime": {
     "start_time": "2023-10-16T03:36:23.432238300Z"
    }
   },
   "id": "4b7f14590def5796"
  },
  {
   "cell_type": "code",
   "execution_count": null,
   "outputs": [],
   "source": [
    "# mehod to get recommendations for a user with Lenskit ItemItem + user_tag_profile\n",
    "def individual_recommender_pipeline(user_id):\n",
    "\n",
    "    # get user_tag_profile_vector\n",
    "    user_tag_profile_vector = make_user_tag_profile(user_id)\n",
    "\n",
    "    # get 10 recommendations\n",
    "    selected_movies_useruser = recsys.recommend(user_id, 10)\n",
    "\n",
    "    # compute cosine similarity and new scores\n",
    "    result = cos_sim_recommended_movies(user_tag_profile_vector, selected_movies_useruser,tag_rel_matrix_df)\n",
    "\n",
    "    result['movie_title'] = result['item'].apply(return_movie_title_from_id)\n",
    "    return result # reranked reccomendations"
   ],
   "metadata": {
    "collapsed": false,
    "ExecuteTime": {
     "end_time": "2023-10-16T03:36:23.447234400Z",
     "start_time": "2023-10-16T03:36:23.435234900Z"
    }
   },
   "id": "602b96a7b1279e58"
  },
  {
   "cell_type": "code",
   "execution_count": null,
   "outputs": [],
   "source": [
    "def calc_new_score(score, user, item,matrix_df):\n",
    "    user_tag_profile = make_user_tag_profile(user)\n",
    "    item_tag_vector = matrix_df[matrix_df['item'] == item].drop(columns=['item']).values\n",
    "    item_tag_vector = item_tag_vector[0]\n",
    "    cos_sim = dot(user_tag_profile, item_tag_vector) / (norm(user_tag_profile) * norm(item_tag_vector))\n",
    "    return (cos_sim + 0.5) * score\n",
    "\n",
    "def mathias_algo(user, item,algo = als):\n",
    "    itemArr = [item]\n",
    "    score = algo.predict_for_user(user, itemArr)\n",
    "    return calc_new_score(score,user,item,tag_rel_matrix_df)"
   ],
   "metadata": {
    "collapsed": false,
    "ExecuteTime": {
     "start_time": "2023-10-16T03:36:23.438236900Z"
    }
   },
   "id": "de29f13e1af26347"
  },
  {
   "cell_type": "code",
   "execution_count": null,
   "outputs": [],
   "source": [
    "mathias_algo(87586,318)"
   ],
   "metadata": {
    "collapsed": false,
    "ExecuteTime": {
     "start_time": "2023-10-16T03:36:23.440236Z"
    }
   },
   "id": "56f1167cb4d7e53f"
  },
  {
   "cell_type": "code",
   "execution_count": null,
   "outputs": [],
   "source": [
    "def list_n_tags_recommended_movies(movie_ids, n):\n",
    "  sum_rows = tag_rel_matrix_df[tag_rel_matrix_df['item'].isin(movie_ids)].sum(axis=0)[1:]\n",
    "  tags = tag_rel_matrix_df.columns[1:].tolist()\n",
    "  sorted_lists = sorted(zip(sum_rows, tags), reverse=True)\n",
    "  sorted_values = [x for _, x in sorted_lists]\n",
    "  return sorted_values[1:n+1]\n",
    "\n",
    "def list_n_tags_user(user_id, n):\n",
    "  user_tag_profile = make_user_tag_profile(user_id)\n",
    "  tags = tag_rel_matrix_df.columns[1:].tolist()\n",
    "  sorted_lists = sorted(zip(user_tag_profile, tags), reverse=True)\n",
    "  sorted_values = [x for _, x in sorted_lists]\n",
    "  return sorted_values[1:n+1]"
   ],
   "metadata": {
    "collapsed": false,
    "ExecuteTime": {
     "start_time": "2023-10-16T03:36:23.441235200Z"
    }
   },
   "id": "ea747630f26d8c7a"
  },
  {
   "cell_type": "code",
   "execution_count": null,
   "outputs": [],
   "source": [
    "def individual_explain(user_id, n):\n",
    "  user_tags = list_n_tags_user(user_id, n)\n",
    "  items = individual_recommender_pipeline(user_id)\n",
    "  item_tags = list_n_tags_recommended_movies(items, n)\n",
    "\n",
    "  # rec_item0 = items.iloc[0, items.columns.get_loc('movie_title')]\n",
    "  # rec_item0 = items.iloc[0, items.columns.get_loc('movie_title')]\n",
    "  # rec_item0 = items.iloc[0, items.columns.get_loc('movie_title')]\n",
    "  # rec_item0 = items.iloc[0, items.columns.get_loc('movie_title')]\n",
    "  rec_item = items.iloc[0, items.columns.get_loc('movie_title')]\n",
    "\n",
    "  return \"Recommended item\" + \": [\" + rec_item +\"] Because you like movies about: \" + \", \".join(user_tags) + \", we recommend movies with the following tags: \" + \", \".join(item_tags)\n"
   ],
   "metadata": {
    "collapsed": false
   },
   "id": "81cd803ad90d0028"
  }
 ],
 "metadata": {
  "kernelspec": {
   "display_name": "Python 3",
   "language": "python",
   "name": "python3"
  },
  "language_info": {
   "codemirror_mode": {
    "name": "ipython",
    "version": 2
   },
   "file_extension": ".py",
   "mimetype": "text/x-python",
   "name": "python",
   "nbconvert_exporter": "python",
   "pygments_lexer": "ipython2",
   "version": "2.7.6"
  }
 },
 "nbformat": 4,
 "nbformat_minor": 5
}
