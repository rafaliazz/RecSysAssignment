{
 "cells": [
  {
   "cell_type": "code",
   "execution_count": null,
   "id": "initial_id",
   "metadata": {
    "collapsed": true,
    "is_executing": true
   },
   "outputs": [],
   "source": [
    "!pip install lenskit\n",
    "from scipy.spatial import distance\n",
    "import random\n",
    "import pandas as pd"
   ]
  },
  {
   "cell_type": "code",
   "execution_count": null,
   "outputs": [],
   "source": [
    "user_df = pd.read_csv('Preprocessed_Data/user_tag_matrix_improved.csv')\n",
    "user_df = user_df.rename(columns = {\"Unnamed: 0\":\"userID\"})\n",
    "user_df.head()\n",
    "user_scores = user_df.drop(\"userID\", axis = 1)\n",
    "user_scores.head()"
   ],
   "metadata": {
    "collapsed": false
   },
   "id": "b04bafbbb177ad2e"
  },
  {
   "cell_type": "code",
   "execution_count": null,
   "outputs": [],
   "source": [
    "import seaborn as sns\n",
    "import matplotlib.pyplot as plt\n",
    "\n",
    "# Assuming you have a DataFrame called 'user_scores'\n",
    "# If not, you can replace this with your actual DataFrame\n",
    "\n",
    "# Step 1: Calculate the mean of each row\n",
    "row_mean = user_scores.mean(axis=1)\n",
    "\n",
    "# Step 2: Create a violin plot\n",
    "plt.figure(figsize=(10, 6))  # Optional: Set the figure size\n",
    "\n",
    "# Create the violin plot using Seaborn\n",
    "sns.violinplot(row_mean, inner='quartile')\n",
    "\n",
    "# Add labels and title\n",
    "plt.xlabel('Mean Scores')\n",
    "plt.ylabel('Frequency')\n",
    "plt.title('Violin Plot of the average user-tag vector value')\n",
    "\n",
    "# Show the plot\n",
    "plt.show()"
   ],
   "metadata": {
    "collapsed": false
   },
   "id": "3a2a3f7a13ebe62"
  },
  {
   "cell_type": "code",
   "execution_count": null,
   "outputs": [],
   "source": [
    "display(row_mean.max())"
   ],
   "metadata": {
    "collapsed": false
   },
   "id": "9f64a201dac2866d"
  },
  {
   "cell_type": "code",
   "execution_count": null,
   "outputs": [],
   "source": [
    "similarity_matrix = pd.read_csv(\"Preprocessed_Data/sim_matrix.csv\")"
   ],
   "metadata": {
    "collapsed": false
   },
   "id": "967cbd908a319d31"
  },
  {
   "cell_type": "code",
   "execution_count": null,
   "outputs": [],
   "source": [
    "del similarity_matrix[similarity_matrix.columns[0]]\n",
    "similarity_matrix[\"mean\"] = similarity_matrix.mean(axis=1)\n",
    "similarity_matrix.head()"
   ],
   "metadata": {
    "collapsed": false
   },
   "id": "c6aeac30b6b4a1d0"
  },
  {
   "cell_type": "code",
   "execution_count": null,
   "outputs": [],
   "source": [
    "import seaborn as sns\n",
    "sns.violinplot(x=similarity_matrix[\"mean\"])\n",
    "plt.xlabel(\"Mean\")\n",
    "plt.title(\"Violin Plot of 'mean' Column\")\n",
    "plt.show()"
   ],
   "metadata": {
    "collapsed": false
   },
   "id": "cdd19e0eb0cfee31"
  },
  {
   "cell_type": "markdown",
   "source": [
    "There are some outliers that are very dissimilar from the rest of the group. Generally, most users on average are very similar to every other user. They tend to average around 90% accuracy. Some users are very dissimilar from the rest of the group though."
   ],
   "metadata": {
    "collapsed": false
   },
   "id": "99bb0f1ebac86a07"
  },
  {
   "cell_type": "code",
   "execution_count": null,
   "outputs": [],
   "source": [
    "similarity_matrix[\"min\"] = similarity_matrix.min(axis=1)\n",
    "similarity_matrix.head()"
   ],
   "metadata": {
    "collapsed": false
   },
   "id": "8badaa9d5a695f06"
  },
  {
   "cell_type": "code",
   "execution_count": null,
   "outputs": [],
   "source": [
    "import seaborn as sns\n",
    "sns.violinplot(x=similarity_matrix[\"min\"])\n",
    "plt.xlabel(\"Min\")\n",
    "plt.title(\"Violin Plot of 'min' Column\")\n",
    "plt.show()"
   ],
   "metadata": {
    "collapsed": false
   },
   "id": "3d94b9e7906dd629"
  },
  {
   "cell_type": "code",
   "execution_count": null,
   "outputs": [],
   "source": [
    "item_df = pd.read_csv('Preprocessed_Data/post_processed_movie_tag.csv')\n",
    "item_df.head()"
   ],
   "metadata": {
    "collapsed": false
   },
   "id": "59d4856723f5f3b9"
  },
  {
   "cell_type": "code",
   "execution_count": null,
   "outputs": [],
   "source": [
    "def generate_candidate(user_df):\n",
    "    #Find a random user\n",
    "    userIndex = random.randint(1,len(user_df))\n",
    "    user = user_df.loc[userIndex-1]\n",
    "    return user"
   ],
   "metadata": {
    "collapsed": false
   },
   "id": "187bf7dfd42f425b"
  },
  {
   "cell_type": "code",
   "execution_count": null,
   "outputs": [],
   "source": [
    "import numpy as np\n",
    "from numpy import dot\n",
    "from numpy.linalg import norm\n",
    "\n",
    "#Lesot et al. Normalized euclidean distance. m = minimum rating, M = maximum rating\n",
    "def sim(vector1, vector2):\n",
    "    \"\"\"\n",
    "\n",
    "    Calculates the normalized cosine similarity between two users.\n",
    "    :vector 1: user to compare.\n",
    "    :vector 2: user 2  to compare.\n",
    "    \"\"\"\n",
    "    vector1 = vector1.drop(\"userID\")\n",
    "    vector2 = vector2.drop(\"userID\")\n",
    "    similarity = dot(vector1, vector2) / (norm(vector1) * norm(vector2))\n",
    "    return similarity"
   ],
   "metadata": {
    "collapsed": false
   },
   "id": "9f2a85609c9a1c5b"
  },
  {
   "cell_type": "code",
   "execution_count": null,
   "outputs": [],
   "source": [
    "import time\n",
    "def check_candidate_uniform(u_new, U, threshold):\n",
    "    \"\"\"\n",
    "    checks if a submitted candidate is uniform with the submitted set in accordance with the threshold\n",
    "\n",
    "    :param u_new: the candidate user to the group\n",
    "    :param U: the group that already exists\n",
    "    :param threshold: the threshold beyond which two users are too dissimnilar for the group to be uniform\n",
    "    \"\"\"\n",
    "    good_candidate = True\n",
    "\n",
    "    for u_k in U:\n",
    "        similarity = sim(u_new, u_k)  # Calculate similarity with each vector in U\n",
    "        if similarity < threshold:\n",
    "            good_candidate = False\n",
    "            break\n",
    "\n",
    "    return good_candidate\n",
    "\n",
    "\n",
    "def generate_uniform_group(size,threshold,user_df):\n",
    "    \"\"\"\n",
    "    generates a uniform group from the data\n",
    "\n",
    "    :param size: the amount of people in the group\n",
    "    :param threshold: the threshold beyond which two users are too dissimilar for the group to be uniform\n",
    "    \"\"\"\n",
    "    U = []\n",
    "    timeout = time.time() + 2\n",
    "    while len(U) < size:\n",
    "        u_new = generate_candidate(user_df)\n",
    "        if check_candidate_uniform(u_new, U, threshold):\n",
    "            U.append(u_new)\n",
    "        if(time.time()>timeout):\n",
    "            timeout = time.time() +2\n",
    "            U=[]\n",
    "    return U"
   ],
   "metadata": {
    "collapsed": false
   },
   "id": "b6d9ebd4f7fbb6b7"
  },
  {
   "cell_type": "code",
   "execution_count": null,
   "outputs": [],
   "source": [
    "def check_candidate_divergent(u_new, U, threshold):\n",
    "    \"\"\"\n",
    "    checks if a submitted candidate is divergent with the submitted set in accordance with the threshold\n",
    "\n",
    "    :param u_new: the candidate user to the group\n",
    "    :param U: the group that already exists\n",
    "    :param threshold: the threshold below which two candidates are too similar for the group to  be  divergent\n",
    "    \"\"\"\n",
    "    good_candidate = True\n",
    "\n",
    "    for u_k in U:\n",
    "        similarity = sim(u_new, u_k)  # Calculate similarity with each vector in U\n",
    "        if similarity > threshold:\n",
    "            good_candidate = False\n",
    "            break\n",
    "\n",
    "    return good_candidate\n",
    "\n",
    "\n",
    "\n",
    "def generate_divergent_group(size,threshold,user_df):\n",
    "    \"\"\"\n",
    "    greedily generates a divergent group from the data\n",
    "\n",
    "    :param size: the amount of people in the group\n",
    "    :param threshold: the threshold beyond which two users are too divergent for the group to be uniform\n",
    "    \"\"\"\n",
    "\n",
    "\n",
    "    U = []\n",
    "    timeout = time.time() + 4\n",
    "    while len(U) < size:\n",
    "        u_new = generate_candidate(user_df)\n",
    "\n",
    "        if check_candidate_divergent(u_new, U, threshold):\n",
    "            #if a candidate is not uniform with\n",
    "            U.append(u_new)\n",
    "        if(time.time()>timeout):\n",
    "            U=[]\n",
    "            timeout = time.time() + 4\n",
    "    return U"
   ],
   "metadata": {
    "collapsed": false
   },
   "id": "6a56e5eb1c82d60"
  },
  {
   "cell_type": "code",
   "execution_count": null,
   "outputs": [],
   "source": [
    "\n",
    "def generate_minority_group(size, threshold1, threshold2,userdf):\n",
    "    \"\"\"\n",
    "    generates a uniform group from the data\n",
    "\n",
    "    :param size: the amount of people in the group\n",
    "    :param threshold1: the threshold beyond which two users are too dissimilar for the group to be uniform\n",
    "    :param threshold2: the threshold below which a two users are too similar for the group to be divergent\n",
    "    \"\"\"\n",
    "    U = []\n",
    "    while len(U) < size - 1:\n",
    "        u_new = generate_candidate(userdf)\n",
    "        if check_candidate_uniform(u_new, U, threshold1):\n",
    "            U.append(u_new)\n",
    "    while len(U) < size:\n",
    "        u_new = generate_candidate(userdf)\n",
    "        if check_candidate_divergent(u_new,U,threshold2):\n",
    "            U.append(u_new)\n",
    "\n",
    "    return U"
   ],
   "metadata": {
    "collapsed": false
   },
   "id": "2f830484a94d38ea"
  },
  {
   "cell_type": "code",
   "execution_count": null,
   "outputs": [],
   "source": [
    "def generate_coalitional_group(size, threshold1,threshold2, userdf):\n",
    "    \"\"\"\n",
    "    generates a coalitional group from the data\n",
    "\n",
    "    :param size: the amount of people in the group\n",
    "    :param threshold1: the threshold beyond which two users are too dissimilar for the group to be uniform\n",
    "    :param threshold2: the threshold below which a two users are too similar for the group to be divergent\n",
    "    \"\"\"\n",
    "    G1 = []\n",
    "    G2 = []\n",
    "    while len(G1) < size // 2:\n",
    "        u_new = generate_candidate(userdf)\n",
    "        if check_candidate_uniform(u_new, G1, threshold1):\n",
    "            G1.append(u_new)\n",
    "    while len(G2) < size - len(G1):\n",
    "        u_new = generate_candidate(userdf)\n",
    "        if check_candidate_uniform(u_new,G2,threshold1) and check_candidate_divergent(u_new,G1,threshold2):\n",
    "            G2.append(u_new)\n",
    "    U = G1 + G2\n",
    "    return U"
   ],
   "metadata": {
    "collapsed": false
   },
   "id": "a4b409e5abcbb1b5"
  },
  {
   "cell_type": "code",
   "execution_count": null,
   "outputs": [],
   "source": [
    "def check_group_uniformity(group, threshold):\n",
    "    \"\"\"\n",
    "    Checks if a group is uniform according to the specified threshold.\n",
    "\n",
    "    :param group: List of users in the group.\n",
    "    :param threshold: The threshold beyond which two users are too dissimilar for the group to be uniform.\n",
    "    :return: True if the group is uniform, False otherwise.\n",
    "    \"\"\"\n",
    "    for i in range(len(group)):\n",
    "        for j in range(i + 1, len(group)):\n",
    "            similarity = sim(group[i], group[j])  # Calculate similarity between user i and user j\n",
    "            if similarity < threshold:\n",
    "                return False  # If any pair of users is too dissimilar, the group is not uniform\n",
    "    return True  # If all pairs are sufficiently similar, the group is uniform\n",
    "\n",
    "def check_group_divergence(group, threshold):\n",
    "    \"\"\"\n",
    "    Checks if a group is divergent according to the specified threshold.\n",
    "\n",
    "    :param group: List of users in the group.\n",
    "    :param threshold: The threshold above which two users are too similar for the group to be divergent.\n",
    "    :return: True if the group is divergent, False otherwise.\n",
    "    \"\"\"\n",
    "    for i in range(len(group)):\n",
    "        for j in range(i + 1, len(group)):\n",
    "            similarity = sim(group[i], group[j])  # Calculate similarity between user i and user j\n",
    "            if similarity > threshold:\n",
    "                return False  # If any pair of users is too similar, the group is divergent\n",
    "    return True  # If no pair is too similar, the group is not divergent\n",
    "\n",
    "def check_group_coalitional(group, threshold):\n",
    "  \"\"\"\n",
    "    Checks if a group is coalitional according to the specified threshold.\n",
    "\n",
    "    :param group: List of users in the group.\n",
    "    :param threshold: The threshold above which two users are too similar for the group to be divergent.\n",
    "    :return: True if the group is divergent, False otherwise.\n",
    "    \"\"\"\n",
    "  G1 = []\n",
    "  G2 = []\n",
    "  #create two groups that are uniform within themselves.\n",
    "  for i in range(len(group)):\n",
    "    if (check_candidate_uniform(group[i], G1, threshold)):\n",
    "      G1.append(group[i])\n",
    "    elif (check_candidate_uniform(group[i],G2, threshold)):\n",
    "      G2.append(group[i])\n",
    "    else:\n",
    "      #if there is an element that fits in neither one group or the other, return false\n",
    "      return False\n",
    " #check that there are no elements that are uniform with one another across groups.\n",
    "  for user1 in G1:\n",
    "        for user2 in G2:\n",
    "            similarity = sim(user1, user2)\n",
    "            if similarity > threshold:\n",
    "              return False\n",
    "  #check that the two groups have a maximum size difference of 1.\n",
    "  if abs(len(G1)-len(G2))>1:\n",
    "    return False\n",
    "  return True"
   ],
   "metadata": {
    "collapsed": false
   },
   "id": "5fbaa74af8120279"
  },
  {
   "cell_type": "markdown",
   "source": [
    "findings from the paper \"Evaluating explainable social choice-based aggregation strategies for group recommendation (2023)\":\n",
    "- Most Pleasure is preferable for Uniform groups but bad for minority groups\n",
    "- Fairness is strong for uniform or coalitional\n",
    "- Additive Utilitarian is good for when there is no clear group identity, it performs among the best on divergent and minority.\n",
    "\n",
    "Based on these results we create an adaptative group recommendation aggregator. It analyses the group configuration and uses Most Pleasure for uniform groups, Fairness for coalitional groups and Additive Utilitarian for all other groups.\n"
   ],
   "metadata": {
    "collapsed": false
   },
   "id": "b662090f2a5582f9"
  },
  {
   "cell_type": "code",
   "execution_count": null,
   "outputs": [],
   "source": [
    "%run 'ind_rec_pipeline.ipynb'"
   ],
   "metadata": {
    "collapsed": false
   },
   "id": "6d6c2a6018a1a6fc"
  },
  {
   "cell_type": "code",
   "execution_count": null,
   "outputs": [],
   "source": [
    "def most_pleasure(G,size = 10):\n",
    "  allrecs = pd.DataFrame()\n",
    "  for user in G:\n",
    "    userrec = individual_recommender_pipeline(user[\"userID\"])\n",
    "    allrecs = pd.concat([allrecs, userrec]) #gather all user recommendations into one big list\n",
    "\n",
    "  allrecs = allrecs.sort_values(by=\"new_score\", ascending=False) #sort it by new score\n",
    "  allrecs = allrecs.drop_duplicates(subset=\"item\", keep=\"first\") #if there are duplicate elements, drop them\n",
    "  allrecs = allrecs.iloc[:size]\n",
    "  return allrecs"
   ],
   "metadata": {
    "collapsed": false
   },
   "id": "8c8a7380ef9a9a9a"
  },
  {
   "cell_type": "code",
   "execution_count": null,
   "outputs": [],
   "source": [
    "import random\n",
    "def fairness(G, size = 10):\n",
    "  group_preferences = [] #list that will contain the recommendations for each user\n",
    "  for user in G:\n",
    "    userrec = individual_recommender_pipeline(user[\"userID\"]).sort_values(by=\"new_score\", ascending=False)\n",
    "    group_preferences.append(userrec)\n",
    "  random.shuffle(group_preferences) #create a random order for the recommendations\n",
    "  final_recommendation = []\n",
    "  k=0 #keep track of whose turn it is by how many iterations have happened\n",
    "  selected_items = set() #keep track of the items that have already been selected\n",
    "  while(len(final_recommendation) < size):\n",
    "    turn = k % len(group_preferences) #the user whose turn it is to select an item\n",
    "    user_prefs = group_preferences[turn]\n",
    "    user_prefs = user_prefs[~user_prefs['item'].isin(selected_items)]\n",
    "    if not user_prefs.empty:\n",
    "            selected_item = user_prefs.iloc[0]\n",
    "            final_recommendation.append(selected_item)\n",
    "            selected_items.add(selected_item['item'])\n",
    "    k = k+1\n",
    "\n",
    "  return pd.DataFrame(final_recommendation)"
   ],
   "metadata": {
    "collapsed": false
   },
   "id": "8403ab12a8f72eb2"
  },
  {
   "cell_type": "code",
   "execution_count": null,
   "outputs": [],
   "source": [
    "def additive(G,size = 10):\n",
    "  prefs = []\n",
    "  for user in G:\n",
    "    userrec = individual_recommender_pipeline(user[\"userID\"])\n",
    "    userrec = userrec.drop(\"score\",axis = 1)\n",
    "    userrec = userrec.rename(columns = {\"new_score\":user[\"userID\"]})\n",
    "    prefs.append(userrec)\n",
    "  prefs = pd.concat(prefs)\n",
    "\n",
    "  for index, row in prefs.iterrows():\n",
    "        for col in prefs.columns:\n",
    "          if pd.isna(row[col]):\n",
    "             user_id = int(col)\n",
    "             item_id = row['item']\n",
    "             score = mathias_algo(user_id, item_id)\n",
    "             prefs.at[index,col] = score[item_id]\n",
    "\n",
    "  sum = prefs.iloc[:,2:].sum(axis=1)\n",
    "  prefs[\"sum_scores\"] = sum\n",
    "  prefs = prefs.sort_values(by=\"sum_scores\", ascending=False)\n",
    "  prefs = prefs.drop_duplicates()\n",
    "  prefs = prefs[['item', 'movie_title', 'sum_scores']]\n",
    "  prefs = prefs.iloc[:size]\n",
    "  return prefs"
   ],
   "metadata": {
    "collapsed": false
   },
   "id": "98700d651482e5f1"
  },
  {
   "cell_type": "code",
   "execution_count": null,
   "outputs": [],
   "source": [
    "def group_recommendation_pipeline(G, recommendation_size = 10, threshold1 = 0.8):\n",
    "    \"\"\"\n",
    "        G: a group. A list of user tag_vectors.\n",
    "        recommendation_size: how many items to recommend\n",
    "    \"\"\"\n",
    "    if check_group_coalitional(G,threshold1):\n",
    "        rec = fairness(G,recommendation_size)\n",
    "        method = \"fairness\"\n",
    "    elif check_group_uniformity(G,threshold1):\n",
    "        rec = most_pleasure(G,recommendation_size)\n",
    "        method = \"most pleasure\"\n",
    "    else:\n",
    "        rec = additive(G,recommendation_size)\n",
    "        method = \"additive utilitarian\"\n",
    "    # rec = rec[[\"movie_title\"]]\n",
    "    return rec, method"
   ],
   "metadata": {
    "collapsed": false
   },
   "id": "ef4cc38bffe37225"
  },
  {
   "cell_type": "markdown",
   "source": [
    "## Group explanations"
   ],
   "metadata": {
    "collapsed": false
   },
   "id": "a3881362ff73ce8a"
  },
  {
   "cell_type": "code",
   "execution_count": null,
   "outputs": [],
   "source": [
    "def explain_fairness(rec_item):\n",
    "  # Individuals take turns to receive their preferred items. The idea behind this strategy is that it is not so bad\n",
    "  # to watch something you hate, as long as you get to watch the things you really love as well.\n",
    "  return \"Recommeded Item: [\" + rec_item + \"]. This recommendation prioritizes a member of our group who had been less favored in past decisions. Everyone will have their turn for personalized recommendations.\"\n",
    "\n",
    "def explain_most_pleasure(rec_item):\n",
    "  # Make a new list of ratings with the maximum of the individual user ratings per item. Items get selected based\n",
    "  # on their rating on that list, the higher the rating the earlier the item appears in the sequence.\n",
    "  return \"Recommeded Item: [\" + rec_item + \"]. This was chosen because it's an option that all group members are likely to enjoy. While it might be the most preferred choice of User B, it also ensures that User A and others don't strongly dislike it.\"\n",
    "\n",
    "def explain_additive_utilitarian(rec_item):\n",
    "  # Maximize the overall satisfaction or utility of the group.\n",
    "  # Recommend items that maximize the collective welfare of the entire group. Which means that items that bring\n",
    "  # the most satisfaction to the group as a whole are prioritized.\n",
    "  return \"Recommeded Item: [\" + rec_item + \"]. This recommendation was made because it is broadly appreciated by our group. It's chosen to maximize the combined satisfaction and enjoyment of all members.\"\n",
    "\n",
    "\n",
    "def group_explanation(method, rec_item):\n",
    "  if method == \"fairness\":\n",
    "    return explain_fairness(rec_item)\n",
    "  elif method == \"most pleasure\":\n",
    "    return explain_most_pleasure(rec_item)\n",
    "  elif method == \"additive utilitarian\":\n",
    "    return explain_additive_utilitarian(rec_item)"
   ],
   "metadata": {
    "collapsed": false
   },
   "id": "e575373eb1b475bf"
  },
  {
   "cell_type": "code",
   "execution_count": null,
   "outputs": [],
   "source": [
    "def group_predict_and_explain(group):\n",
    "  # determine the method used\n",
    "  rec_item, method = group_recommendation_pipeline(group)\n",
    "  rec_item = rec_item.iloc[0, rec_item.columns.get_loc('movie_title')]\n",
    "\n",
    "  # print(rec_item)\n",
    "  # print(method)\n",
    "\n",
    "  #get explanation\n",
    "  explanation = group_explanation(method, rec_item)\n",
    "  return rec_item, explanation"
   ],
   "metadata": {
    "collapsed": false
   },
   "id": "2dade1e1076448de"
  }
 ],
 "metadata": {
  "kernelspec": {
   "display_name": "Python 3",
   "language": "python",
   "name": "python3"
  },
  "language_info": {
   "codemirror_mode": {
    "name": "ipython",
    "version": 2
   },
   "file_extension": ".py",
   "mimetype": "text/x-python",
   "name": "python",
   "nbconvert_exporter": "python",
   "pygments_lexer": "ipython2",
   "version": "2.7.6"
  }
 },
 "nbformat": 4,
 "nbformat_minor": 5
}
